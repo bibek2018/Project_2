{
 "cells": [
  {
   "cell_type": "code",
   "execution_count": 46,
   "metadata": {},
   "outputs": [],
   "source": [
    "import pandas as pd\n",
    "import numpy as np\n",
    "import matplotlib.pyplot as plt\n",
    "import seaborn as sns\n",
    "from scipy.sparse import csr_matrix\n",
    "from sklearn.cluster import KMeans\n",
    "from sklearn.metrics import mean_squared_error\n",
    "from sklearn.metrics import silhouette_samples, silhouette_score"
   ]
  },
  {
   "cell_type": "markdown",
   "metadata": {},
   "source": [
    "# Clustering:\n",
    "Clustering in simple words means clubbing together data of 'similar' features. It is a very useful technique in both supervised and unsupervised learning of data.\n",
    "\n",
    "In this project, we are dealing with different kinds of data sets cosnisting of movies, ratings and tags."
   ]
  },
  {
   "cell_type": "code",
   "execution_count": 54,
   "metadata": {},
   "outputs": [
    {
     "data": {
      "text/html": [
       "<div>\n",
       "<style scoped>\n",
       "    .dataframe tbody tr th:only-of-type {\n",
       "        vertical-align: middle;\n",
       "    }\n",
       "\n",
       "    .dataframe tbody tr th {\n",
       "        vertical-align: top;\n",
       "    }\n",
       "\n",
       "    .dataframe thead th {\n",
       "        text-align: right;\n",
       "    }\n",
       "</style>\n",
       "<table border=\"1\" class=\"dataframe\">\n",
       "  <thead>\n",
       "    <tr style=\"text-align: right;\">\n",
       "      <th></th>\n",
       "      <th>movieId</th>\n",
       "      <th>title</th>\n",
       "      <th>genres</th>\n",
       "    </tr>\n",
       "  </thead>\n",
       "  <tbody>\n",
       "    <tr>\n",
       "      <th>0</th>\n",
       "      <td>1</td>\n",
       "      <td>Toy Story (1995)</td>\n",
       "      <td>Adventure|Animation|Children|Comedy|Fantasy</td>\n",
       "    </tr>\n",
       "    <tr>\n",
       "      <th>1</th>\n",
       "      <td>2</td>\n",
       "      <td>Jumanji (1995)</td>\n",
       "      <td>Adventure|Children|Fantasy</td>\n",
       "    </tr>\n",
       "    <tr>\n",
       "      <th>2</th>\n",
       "      <td>3</td>\n",
       "      <td>Grumpier Old Men (1995)</td>\n",
       "      <td>Comedy|Romance</td>\n",
       "    </tr>\n",
       "  </tbody>\n",
       "</table>\n",
       "</div>"
      ],
      "text/plain": [
       "   movieId                    title  \\\n",
       "0        1         Toy Story (1995)   \n",
       "1        2           Jumanji (1995)   \n",
       "2        3  Grumpier Old Men (1995)   \n",
       "\n",
       "                                        genres  \n",
       "0  Adventure|Animation|Children|Comedy|Fantasy  \n",
       "1                   Adventure|Children|Fantasy  \n",
       "2                               Comedy|Romance  "
      ]
     },
     "execution_count": 54,
     "metadata": {},
     "output_type": "execute_result"
    }
   ],
   "source": [
    "df1= pd.read_csv(\"movies.csv\")\n",
    "df2=pd.read_csv(\"ratings.csv\")\n",
    "df3=pd.read_csv(\"tags.csv\", encoding='utf-8')\n",
    "df1.head(3)\n"
   ]
  },
  {
   "cell_type": "code",
   "execution_count": 10,
   "metadata": {},
   "outputs": [
    {
     "data": {
      "text/html": [
       "<div>\n",
       "<style scoped>\n",
       "    .dataframe tbody tr th:only-of-type {\n",
       "        vertical-align: middle;\n",
       "    }\n",
       "\n",
       "    .dataframe tbody tr th {\n",
       "        vertical-align: top;\n",
       "    }\n",
       "\n",
       "    .dataframe thead th {\n",
       "        text-align: right;\n",
       "    }\n",
       "</style>\n",
       "<table border=\"1\" class=\"dataframe\">\n",
       "  <thead>\n",
       "    <tr style=\"text-align: right;\">\n",
       "      <th></th>\n",
       "      <th>userId</th>\n",
       "      <th>movieId</th>\n",
       "      <th>rating</th>\n",
       "      <th>timestamp</th>\n",
       "    </tr>\n",
       "  </thead>\n",
       "  <tbody>\n",
       "    <tr>\n",
       "      <th>0</th>\n",
       "      <td>1</td>\n",
       "      <td>1</td>\n",
       "      <td>4.0</td>\n",
       "      <td>964982703</td>\n",
       "    </tr>\n",
       "    <tr>\n",
       "      <th>1</th>\n",
       "      <td>1</td>\n",
       "      <td>3</td>\n",
       "      <td>4.0</td>\n",
       "      <td>964981247</td>\n",
       "    </tr>\n",
       "    <tr>\n",
       "      <th>2</th>\n",
       "      <td>1</td>\n",
       "      <td>6</td>\n",
       "      <td>4.0</td>\n",
       "      <td>964982224</td>\n",
       "    </tr>\n",
       "  </tbody>\n",
       "</table>\n",
       "</div>"
      ],
      "text/plain": [
       "   userId  movieId  rating  timestamp\n",
       "0       1        1     4.0  964982703\n",
       "1       1        3     4.0  964981247\n",
       "2       1        6     4.0  964982224"
      ]
     },
     "execution_count": 10,
     "metadata": {},
     "output_type": "execute_result"
    }
   ],
   "source": [
    "df2.head(3)"
   ]
  },
  {
   "cell_type": "code",
   "execution_count": 55,
   "metadata": {},
   "outputs": [
    {
     "data": {
      "text/html": [
       "<div>\n",
       "<style scoped>\n",
       "    .dataframe tbody tr th:only-of-type {\n",
       "        vertical-align: middle;\n",
       "    }\n",
       "\n",
       "    .dataframe tbody tr th {\n",
       "        vertical-align: top;\n",
       "    }\n",
       "\n",
       "    .dataframe thead th {\n",
       "        text-align: right;\n",
       "    }\n",
       "</style>\n",
       "<table border=\"1\" class=\"dataframe\">\n",
       "  <thead>\n",
       "    <tr style=\"text-align: right;\">\n",
       "      <th></th>\n",
       "      <th>userId</th>\n",
       "      <th>movieId</th>\n",
       "      <th>tag</th>\n",
       "      <th>timestamp</th>\n",
       "    </tr>\n",
       "  </thead>\n",
       "  <tbody>\n",
       "    <tr>\n",
       "      <th>0</th>\n",
       "      <td>2</td>\n",
       "      <td>60756</td>\n",
       "      <td>funny</td>\n",
       "      <td>1445714994</td>\n",
       "    </tr>\n",
       "    <tr>\n",
       "      <th>1</th>\n",
       "      <td>2</td>\n",
       "      <td>60756</td>\n",
       "      <td>Highly quotable</td>\n",
       "      <td>1445714996</td>\n",
       "    </tr>\n",
       "    <tr>\n",
       "      <th>2</th>\n",
       "      <td>2</td>\n",
       "      <td>60756</td>\n",
       "      <td>will ferrell</td>\n",
       "      <td>1445714992</td>\n",
       "    </tr>\n",
       "  </tbody>\n",
       "</table>\n",
       "</div>"
      ],
      "text/plain": [
       "   userId  movieId              tag   timestamp\n",
       "0       2    60756            funny  1445714994\n",
       "1       2    60756  Highly quotable  1445714996\n",
       "2       2    60756     will ferrell  1445714992"
      ]
     },
     "execution_count": 55,
     "metadata": {},
     "output_type": "execute_result"
    }
   ],
   "source": [
    "df3.head(3)"
   ]
  },
  {
   "cell_type": "markdown",
   "metadata": {},
   "source": [
    "#### Some descriptions:\n",
    "We are going to use only genre, rating, tag for this analysis. Some data especially time stamp, userid etc. will not be very useful for this analysis though they can be useful depending upon our end goals. "
   ]
  },
  {
   "cell_type": "code",
   "execution_count": 26,
   "metadata": {},
   "outputs": [
    {
     "data": {
      "text/html": [
       "<div>\n",
       "<style scoped>\n",
       "    .dataframe tbody tr th:only-of-type {\n",
       "        vertical-align: middle;\n",
       "    }\n",
       "\n",
       "    .dataframe tbody tr th {\n",
       "        vertical-align: top;\n",
       "    }\n",
       "\n",
       "    .dataframe thead th {\n",
       "        text-align: right;\n",
       "    }\n",
       "</style>\n",
       "<table border=\"1\" class=\"dataframe\">\n",
       "  <thead>\n",
       "    <tr style=\"text-align: right;\">\n",
       "      <th></th>\n",
       "      <th>movieId</th>\n",
       "      <th>title</th>\n",
       "      <th>genres</th>\n",
       "      <th>userId</th>\n",
       "      <th>rating</th>\n",
       "      <th>timestamp</th>\n",
       "    </tr>\n",
       "  </thead>\n",
       "  <tbody>\n",
       "    <tr>\n",
       "      <th>0</th>\n",
       "      <td>1</td>\n",
       "      <td>Toy Story (1995)</td>\n",
       "      <td>Adventure|Animation|Children|Comedy|Fantasy</td>\n",
       "      <td>1</td>\n",
       "      <td>4.0</td>\n",
       "      <td>964982703</td>\n",
       "    </tr>\n",
       "    <tr>\n",
       "      <th>1</th>\n",
       "      <td>1</td>\n",
       "      <td>Toy Story (1995)</td>\n",
       "      <td>Adventure|Animation|Children|Comedy|Fantasy</td>\n",
       "      <td>5</td>\n",
       "      <td>4.0</td>\n",
       "      <td>847434962</td>\n",
       "    </tr>\n",
       "    <tr>\n",
       "      <th>2</th>\n",
       "      <td>1</td>\n",
       "      <td>Toy Story (1995)</td>\n",
       "      <td>Adventure|Animation|Children|Comedy|Fantasy</td>\n",
       "      <td>7</td>\n",
       "      <td>4.5</td>\n",
       "      <td>1106635946</td>\n",
       "    </tr>\n",
       "    <tr>\n",
       "      <th>3</th>\n",
       "      <td>1</td>\n",
       "      <td>Toy Story (1995)</td>\n",
       "      <td>Adventure|Animation|Children|Comedy|Fantasy</td>\n",
       "      <td>15</td>\n",
       "      <td>2.5</td>\n",
       "      <td>1510577970</td>\n",
       "    </tr>\n",
       "    <tr>\n",
       "      <th>4</th>\n",
       "      <td>1</td>\n",
       "      <td>Toy Story (1995)</td>\n",
       "      <td>Adventure|Animation|Children|Comedy|Fantasy</td>\n",
       "      <td>17</td>\n",
       "      <td>4.5</td>\n",
       "      <td>1305696483</td>\n",
       "    </tr>\n",
       "  </tbody>\n",
       "</table>\n",
       "</div>"
      ],
      "text/plain": [
       "   movieId             title                                       genres  \\\n",
       "0        1  Toy Story (1995)  Adventure|Animation|Children|Comedy|Fantasy   \n",
       "1        1  Toy Story (1995)  Adventure|Animation|Children|Comedy|Fantasy   \n",
       "2        1  Toy Story (1995)  Adventure|Animation|Children|Comedy|Fantasy   \n",
       "3        1  Toy Story (1995)  Adventure|Animation|Children|Comedy|Fantasy   \n",
       "4        1  Toy Story (1995)  Adventure|Animation|Children|Comedy|Fantasy   \n",
       "\n",
       "   userId  rating   timestamp  \n",
       "0       1     4.0   964982703  \n",
       "1       5     4.0   847434962  \n",
       "2       7     4.5  1106635946  \n",
       "3      15     2.5  1510577970  \n",
       "4      17     4.5  1305696483  "
      ]
     },
     "execution_count": 26,
     "metadata": {},
     "output_type": "execute_result"
    }
   ],
   "source": [
    "#I tried to merge the tow data sets being too simplistic and optimistic which lead me to a 'wrong zone' for such a long period time that I am recording this mistake so as not to make any such mistake in future.\n",
    "dataf = pd.merge(df1, df2)\n",
    "dataf.head()"
   ]
  },
  {
   "cell_type": "markdown",
   "metadata": {},
   "source": [
    "### Clustering approach:\n",
    "\n",
    "The tricky part in this project is to combine two or more different data sources having different base as explained below, and come up with an intelligible analysis. \n",
    "\n",
    "Note that the data set of movies is movie based(since it is sequenced with movie id) whereas the ratings data set is user based. Our approach is to do clustering based on tag lines. We first compare ratings of similar taglines of a movie and then plot them against each other. On this two dimensional plot, we will do knn clustering.\n",
    "\n",
    "To illustrate the approach we have randomly chosen chosen two tag lines 'funny' and 'will' from 'will ferrel'(It may include other words invloving 'will'. But for the time being, we will ignore such inaccuracies.)"
   ]
  },
  {
   "cell_type": "code",
   "execution_count": 71,
   "metadata": {},
   "outputs": [
    {
     "data": {
      "text/html": [
       "<div>\n",
       "<style scoped>\n",
       "    .dataframe tbody tr th:only-of-type {\n",
       "        vertical-align: middle;\n",
       "    }\n",
       "\n",
       "    .dataframe tbody tr th {\n",
       "        vertical-align: top;\n",
       "    }\n",
       "\n",
       "    .dataframe thead th {\n",
       "        text-align: right;\n",
       "    }\n",
       "</style>\n",
       "<table border=\"1\" class=\"dataframe\">\n",
       "  <thead>\n",
       "    <tr style=\"text-align: right;\">\n",
       "      <th></th>\n",
       "      <th>mean_funny_rating</th>\n",
       "      <th>mean_will_rating</th>\n",
       "    </tr>\n",
       "  </thead>\n",
       "  <tbody>\n",
       "    <tr>\n",
       "      <th>1</th>\n",
       "      <td>4.00</td>\n",
       "      <td>3.0</td>\n",
       "    </tr>\n",
       "    <tr>\n",
       "      <th>2</th>\n",
       "      <td>3.83</td>\n",
       "      <td>5.0</td>\n",
       "    </tr>\n",
       "    <tr>\n",
       "      <th>4</th>\n",
       "      <td>2.50</td>\n",
       "      <td>1.0</td>\n",
       "    </tr>\n",
       "    <tr>\n",
       "      <th>5</th>\n",
       "      <td>4.00</td>\n",
       "      <td>5.0</td>\n",
       "    </tr>\n",
       "    <tr>\n",
       "      <th>6</th>\n",
       "      <td>2.00</td>\n",
       "      <td>2.0</td>\n",
       "    </tr>\n",
       "  </tbody>\n",
       "</table>\n",
       "</div>"
      ],
      "text/plain": [
       "   mean_funny_rating  mean_will_rating\n",
       "1               4.00               3.0\n",
       "2               3.83               5.0\n",
       "4               2.50               1.0\n",
       "5               4.00               5.0\n",
       "6               2.00               2.0"
      ]
     },
     "execution_count": 71,
     "metadata": {},
     "output_type": "execute_result"
    }
   ],
   "source": [
    "# Function computing the tag rating:\n",
    "def tags_ratings(df2, df3, tags, column_names):\n",
    "    tag_ratings = pd.DataFrame()\n",
    "    for tag in tags:        \n",
    "        tag_movies = df3[df3['tag'].str.contains(tag) ]\n",
    "        avg_tag_votes_per_user = df2[df2['movieId'].isin(tag_movies['movieId'])].loc[:, ['userId', 'rating']].groupby(['userId'])['rating'].mean().round(2)\n",
    "        \n",
    "        tag_ratings = pd.concat([tag_ratings, avg_tag_votes_per_user], axis=1)\n",
    "        \n",
    "    tag_ratings.columns = column_names\n",
    "    return tag_ratings\n",
    "# Compute the mena ratings of funny and Will's movies.\n",
    "tag_ratings = tags_ratings(df2, df3, ['funny', 'will'], ['mean_funny_rating', 'mean_will_rating'])\n",
    "tag_ratings.head()"
   ]
  },
  {
   "cell_type": "code",
   "execution_count": 76,
   "metadata": {},
   "outputs": [
    {
     "name": "stdout",
     "output_type": "stream",
     "text": [
      "Number of records:  180\n"
     ]
    },
    {
     "data": {
      "text/html": [
       "<div>\n",
       "<style scoped>\n",
       "    .dataframe tbody tr th:only-of-type {\n",
       "        vertical-align: middle;\n",
       "    }\n",
       "\n",
       "    .dataframe tbody tr th {\n",
       "        vertical-align: top;\n",
       "    }\n",
       "\n",
       "    .dataframe thead th {\n",
       "        text-align: right;\n",
       "    }\n",
       "</style>\n",
       "<table border=\"1\" class=\"dataframe\">\n",
       "  <thead>\n",
       "    <tr style=\"text-align: right;\">\n",
       "      <th></th>\n",
       "      <th>index</th>\n",
       "      <th>mean_funny_rating</th>\n",
       "      <th>mean_will_rating</th>\n",
       "    </tr>\n",
       "  </thead>\n",
       "  <tbody>\n",
       "    <tr>\n",
       "      <th>0</th>\n",
       "      <td>1</td>\n",
       "      <td>4.00</td>\n",
       "      <td>3.0</td>\n",
       "    </tr>\n",
       "    <tr>\n",
       "      <th>1</th>\n",
       "      <td>2</td>\n",
       "      <td>3.83</td>\n",
       "      <td>5.0</td>\n",
       "    </tr>\n",
       "    <tr>\n",
       "      <th>2</th>\n",
       "      <td>5</td>\n",
       "      <td>4.00</td>\n",
       "      <td>5.0</td>\n",
       "    </tr>\n",
       "    <tr>\n",
       "      <th>3</th>\n",
       "      <td>8</td>\n",
       "      <td>3.50</td>\n",
       "      <td>4.0</td>\n",
       "    </tr>\n",
       "    <tr>\n",
       "      <th>4</th>\n",
       "      <td>14</td>\n",
       "      <td>3.00</td>\n",
       "      <td>3.0</td>\n",
       "    </tr>\n",
       "  </tbody>\n",
       "</table>\n",
       "</div>"
      ],
      "text/plain": [
       "   index  mean_funny_rating  mean_will_rating\n",
       "0      1               4.00               3.0\n",
       "1      2               3.83               5.0\n",
       "2      5               4.00               5.0\n",
       "3      8               3.50               4.0\n",
       "4     14               3.00               3.0"
      ]
     },
     "execution_count": 76,
     "metadata": {},
     "output_type": "execute_result"
    }
   ],
   "source": [
    "#We will select the datset having specific tag lines and compute their ratings.\n",
    "def tag_rating_dataset(tag_ratings, upper_limit_1, lower_limit_2):\n",
    "    tagged_dataset =    tag_ratings[((tag_ratings['mean_funny_rating'] < upper_limit_1 - 0.1) & (tag_ratings['mean_will_rating'] > lower_limit_2)) | ((tag_ratings['mean_funny_rating'] < upper_limit_1) & (tag_ratings['mean_will_rating'] > lower_limit_2))]\n",
    "    tagged_dataset = pd.concat([tagged_dataset[:500], tag_ratings[:1]])\n",
    "    tagged_dataset = pd.DataFrame(tagged_dataset.to_records())\n",
    "    return tagged_dataset\n",
    "# Bias the dataset\n",
    "tagged_dataset = tag_rating_dataset(tag_ratings, 4.1, 2.5)\n",
    "# Printing the resulting number of records & the head of the dataset\n",
    "print( \"Number of records: \", len(tagged_dataset))\n",
    "tagged_dataset.head()"
   ]
  },
  {
   "cell_type": "code",
   "execution_count": 81,
   "metadata": {},
   "outputs": [
    {
     "data": {
      "image/png": "[encoded data removed]",
      "text/plain": [
       "<Figure size 576x576 with 1 Axes>"
      ]
     },
     "metadata": {
      "needs_background": "light"
     },
     "output_type": "display_data"
    }
   ],
   "source": [
    "# Plotting scatterplots\n",
    "def draw_scatterplot(x_data, x_label, y_data, y_label):\n",
    "    fig = plt.figure(figsize=(8,8))\n",
    "    ax = fig.add_subplot(111)\n",
    "    plt.xlim(1, 5)\n",
    "    plt.ylim(2.5, 5.2)\n",
    "    ax.set_xlabel(x_label)\n",
    "    ax.set_ylabel(y_label)\n",
    "    ax.scatter(x_data, y_data, s=30)\n",
    "draw_scatterplot(tagged_dataset['mean_funny_rating'],'Mean Funny rating', tagged_dataset['mean_will_rating'], 'Mean will rating')"
   ]
  },
  {
   "cell_type": "markdown",
   "metadata": {},
   "source": [
    "### Idea behind clustering:\n",
    "\n",
    "Clustering is based on simple idea of computing the Eucleadian distance function and then partioning the data set in such a way that the sum of distances between the points within each partition is minimum. In our case, the dats is two dimensional, so it will minimise the distance over the plane to produce the clusters. "
   ]
  },
  {
   "cell_type": "code",
   "execution_count": 89,
   "metadata": {
    "scrolled": true
   },
   "outputs": [
    {
     "data": {
      "text/plain": [
       "<matplotlib.collections.PathCollection at 0x1285ec208>"
      ]
     },
     "execution_count": 89,
     "metadata": {},
     "output_type": "execute_result"
    },
    {
     "data": {
      "image/png": "[encoded data removed]",
      "text/plain": [
       "<Figure size 432x288 with 1 Axes>"
      ]
     },
     "metadata": {
      "needs_background": "light"
     },
     "output_type": "display_data"
    }
   ],
   "source": [
    "# Plotting the knn clusters having two clusters\n",
    "import matplotlib\n",
    "X = tagged_dataset[['mean_funny_rating', 'mean_will_rating']].values\n",
    "# Import KMeans\n",
    "from sklearn.cluster import KMeans\n",
    "kmeans_1 = KMeans(n_clusters=2)\n",
    "predictions = kmeans_1.fit_predict(X)\n",
    "# Defining the cluster plotting function\n",
    "def draw_clusters(tagged_dataset, predictions, cmap='viridis'):\n",
    "    fig = plt.figure(figsize=(8,8))\n",
    "    ax = fig.add_subplot(111)\n",
    "    plt.xlim(0, 5)\n",
    "    plt.ylim(0, 5)\n",
    "    ax.set_xlabel(\"Mean funny rating\")\n",
    "    ax.set_ylabel(\"Mean Will rating\")\n",
    "clustered = pd.concat([tagged_dataset.reset_index(), pd.DataFrame({'group':predictions})], axis=1)\n",
    "plt.scatter(clustered['mean_funny_rating'],  clustered['mean_will_rating'] , c=clustered['group'], s=20, cmap=matplotlib.cm.get_cmap('viridis'))"
   ]
  },
  {
   "cell_type": "code",
   "execution_count": 90,
   "metadata": {},
   "outputs": [
    {
     "data": {
      "text/plain": [
       "<matplotlib.collections.PathCollection at 0x128644f60>"
      ]
     },
     "execution_count": 90,
     "metadata": {},
     "output_type": "execute_result"
    },
    {
     "data": {
      "image/png": "[encoded data removed]",
      "text/plain": [
       "<Figure size 432x288 with 1 Axes>"
      ]
     },
     "metadata": {
      "needs_background": "light"
     },
     "output_type": "display_data"
    }
   ],
   "source": [
    "# Plotting the knn clusters having three clusters\n",
    "import matplotlib\n",
    "X = tagged_dataset[['mean_funny_rating', 'mean_will_rating']].values\n",
    "# Import KMeans\n",
    "from sklearn.cluster import KMeans\n",
    "kmeans_1 = KMeans(n_clusters=3)\n",
    "predictions = kmeans_1.fit_predict(X)\n",
    "# Defining the cluster plotting function\n",
    "def draw_clusters(tagged_dataset, predictions, cmap='viridis'):\n",
    "    fig = plt.figure(figsize=(8,8))\n",
    "    ax = fig.add_subplot(111)\n",
    "    plt.xlim(0, 5)\n",
    "    plt.ylim(0, 5)\n",
    "    ax.set_xlabel(\"Mean funny rating\")\n",
    "    ax.set_ylabel(\"Mean Will rating\")\n",
    "clustered = pd.concat([tagged_dataset.reset_index(), pd.DataFrame({'group':predictions})], axis=1)\n",
    "plt.scatter(clustered['mean_funny_rating'],  clustered['mean_will_rating'] , c=clustered['group'], s=20, cmap=matplotlib.cm.get_cmap('viridis'))"
   ]
  },
  {
   "cell_type": "code",
   "execution_count": 91,
   "metadata": {},
   "outputs": [
    {
     "data": {
      "text/plain": [
       "<matplotlib.collections.PathCollection at 0x125da70b8>"
      ]
     },
     "execution_count": 91,
     "metadata": {},
     "output_type": "execute_result"
    },
    {
     "data": {
      "image/png": "[encoded data removed]",
      "text/plain": [
       "<Figure size 432x288 with 1 Axes>"
      ]
     },
     "metadata": {
      "needs_background": "light"
     },
     "output_type": "display_data"
    }
   ],
   "source": [
    "# Plotting the knn clusters having four clusters\n",
    "\n",
    "import matplotlib\n",
    "X = tagged_dataset[['mean_funny_rating', 'mean_will_rating']].values\n",
    "# Import KMeans\n",
    "from sklearn.cluster import KMeans\n",
    "kmeans_1 = KMeans(n_clusters=5)\n",
    "predictions = kmeans_1.fit_predict(X)\n",
    "# Defining the cluster plotting function\n",
    "def draw_clusters(tagged_dataset, predictions, cmap='viridis'):\n",
    "    fig = plt.figure(figsize=(8,8))\n",
    "    ax = fig.add_subplot(111)\n",
    "    plt.xlim(0, 5)\n",
    "    plt.ylim(0, 5)\n",
    "    ax.set_xlabel(\"Mean funny rating\")\n",
    "    ax.set_ylabel(\"Mean Will rating\")\n",
    "clustered = pd.concat([tagged_dataset.reset_index(), pd.DataFrame({'group':predictions})], axis=1)\n",
    "plt.scatter(clustered['mean_funny_rating'],  clustered['mean_will_rating'] , c=clustered['group'], s=20, cmap=matplotlib.cm.get_cmap('viridis'))"
   ]
  },
  {
   "cell_type": "code",
   "execution_count": 92,
   "metadata": {
    "scrolled": true
   },
   "outputs": [
    {
     "name": "stderr",
     "output_type": "stream",
     "text": [
      "/Users/bibek/anaconda3/lib/python3.7/site-packages/sklearn/cluster/k_means_.py:969: ConvergenceWarning: Number of distinct clusters (71) found smaller than n_clusters (72). Possibly due to duplicate points in X.\n",
      "  return_n_iter=True)\n",
      "/Users/bibek/anaconda3/lib/python3.7/site-packages/sklearn/cluster/k_means_.py:969: ConvergenceWarning: Number of distinct clusters (71) found smaller than n_clusters (77). Possibly due to duplicate points in X.\n",
      "  return_n_iter=True)\n",
      "/Users/bibek/anaconda3/lib/python3.7/site-packages/sklearn/cluster/k_means_.py:969: ConvergenceWarning: Number of distinct clusters (71) found smaller than n_clusters (82). Possibly due to duplicate points in X.\n",
      "  return_n_iter=True)\n",
      "/Users/bibek/anaconda3/lib/python3.7/site-packages/sklearn/cluster/k_means_.py:969: ConvergenceWarning: Number of distinct clusters (71) found smaller than n_clusters (87). Possibly due to duplicate points in X.\n",
      "  return_n_iter=True)\n",
      "/Users/bibek/anaconda3/lib/python3.7/site-packages/sklearn/cluster/k_means_.py:969: ConvergenceWarning: Number of distinct clusters (71) found smaller than n_clusters (92). Possibly due to duplicate points in X.\n",
      "  return_n_iter=True)\n",
      "/Users/bibek/anaconda3/lib/python3.7/site-packages/sklearn/cluster/k_means_.py:969: ConvergenceWarning: Number of distinct clusters (71) found smaller than n_clusters (97). Possibly due to duplicate points in X.\n",
      "  return_n_iter=True)\n",
      "/Users/bibek/anaconda3/lib/python3.7/site-packages/sklearn/cluster/k_means_.py:969: ConvergenceWarning: Number of distinct clusters (71) found smaller than n_clusters (102). Possibly due to duplicate points in X.\n",
      "  return_n_iter=True)\n",
      "/Users/bibek/anaconda3/lib/python3.7/site-packages/sklearn/cluster/k_means_.py:969: ConvergenceWarning: Number of distinct clusters (71) found smaller than n_clusters (107). Possibly due to duplicate points in X.\n",
      "  return_n_iter=True)\n",
      "/Users/bibek/anaconda3/lib/python3.7/site-packages/sklearn/cluster/k_means_.py:969: ConvergenceWarning: Number of distinct clusters (71) found smaller than n_clusters (112). Possibly due to duplicate points in X.\n",
      "  return_n_iter=True)\n",
      "/Users/bibek/anaconda3/lib/python3.7/site-packages/sklearn/cluster/k_means_.py:969: ConvergenceWarning: Number of distinct clusters (71) found smaller than n_clusters (117). Possibly due to duplicate points in X.\n",
      "  return_n_iter=True)\n",
      "/Users/bibek/anaconda3/lib/python3.7/site-packages/sklearn/cluster/k_means_.py:969: ConvergenceWarning: Number of distinct clusters (71) found smaller than n_clusters (122). Possibly due to duplicate points in X.\n",
      "  return_n_iter=True)\n",
      "/Users/bibek/anaconda3/lib/python3.7/site-packages/sklearn/cluster/k_means_.py:969: ConvergenceWarning: Number of distinct clusters (71) found smaller than n_clusters (127). Possibly due to duplicate points in X.\n",
      "  return_n_iter=True)\n",
      "/Users/bibek/anaconda3/lib/python3.7/site-packages/sklearn/cluster/k_means_.py:969: ConvergenceWarning: Number of distinct clusters (71) found smaller than n_clusters (132). Possibly due to duplicate points in X.\n",
      "  return_n_iter=True)\n",
      "/Users/bibek/anaconda3/lib/python3.7/site-packages/sklearn/cluster/k_means_.py:969: ConvergenceWarning: Number of distinct clusters (71) found smaller than n_clusters (137). Possibly due to duplicate points in X.\n",
      "  return_n_iter=True)\n",
      "/Users/bibek/anaconda3/lib/python3.7/site-packages/sklearn/cluster/k_means_.py:969: ConvergenceWarning: Number of distinct clusters (71) found smaller than n_clusters (142). Possibly due to duplicate points in X.\n",
      "  return_n_iter=True)\n",
      "/Users/bibek/anaconda3/lib/python3.7/site-packages/sklearn/cluster/k_means_.py:969: ConvergenceWarning: Number of distinct clusters (71) found smaller than n_clusters (147). Possibly due to duplicate points in X.\n",
      "  return_n_iter=True)\n",
      "/Users/bibek/anaconda3/lib/python3.7/site-packages/sklearn/cluster/k_means_.py:969: ConvergenceWarning: Number of distinct clusters (71) found smaller than n_clusters (152). Possibly due to duplicate points in X.\n",
      "  return_n_iter=True)\n",
      "/Users/bibek/anaconda3/lib/python3.7/site-packages/sklearn/cluster/k_means_.py:969: ConvergenceWarning: Number of distinct clusters (71) found smaller than n_clusters (157). Possibly due to duplicate points in X.\n",
      "  return_n_iter=True)\n",
      "/Users/bibek/anaconda3/lib/python3.7/site-packages/sklearn/cluster/k_means_.py:969: ConvergenceWarning: Number of distinct clusters (71) found smaller than n_clusters (162). Possibly due to duplicate points in X.\n",
      "  return_n_iter=True)\n",
      "/Users/bibek/anaconda3/lib/python3.7/site-packages/sklearn/cluster/k_means_.py:969: ConvergenceWarning: Number of distinct clusters (71) found smaller than n_clusters (167). Possibly due to duplicate points in X.\n",
      "  return_n_iter=True)\n",
      "/Users/bibek/anaconda3/lib/python3.7/site-packages/sklearn/cluster/k_means_.py:969: ConvergenceWarning: Number of distinct clusters (71) found smaller than n_clusters (172). Possibly due to duplicate points in X.\n",
      "  return_n_iter=True)\n",
      "/Users/bibek/anaconda3/lib/python3.7/site-packages/sklearn/cluster/k_means_.py:969: ConvergenceWarning: Number of distinct clusters (71) found smaller than n_clusters (177). Possibly due to duplicate points in X.\n",
      "  return_n_iter=True)\n"
     ]
    },
    {
     "data": {
      "image/png": "[encoded data removed]",
      "text/plain": [
       "<Figure size 1152x432 with 1 Axes>"
      ]
     },
     "metadata": {
      "needs_background": "light"
     },
     "output_type": "display_data"
    }
   ],
   "source": [
    "# Selecting our dataset to study\n",
    "df = tagged_dataset[['mean_funny_rating','mean_will_rating']]\n",
    "possible_k_values = range(2, len(X)+1, 5)\n",
    "# Define function to calculate the clustering errors\n",
    "def clustering_errors(k, data):\n",
    "    kmeans = KMeans(n_clusters=k).fit(data)\n",
    "    predictions = kmeans.predict(data)\n",
    "    silhouette_avg = silhouette_score(data, predictions)\n",
    "    return silhouette_avg\n",
    "# Calculate error values for all k values we're interested in\n",
    "errors_per_k = [clustering_errors(k, X) for k in possible_k_values]\n",
    "# Plot the each value of K vs. the silhouette score at that value\n",
    "fig, ax = plt.subplots(figsize=(16, 6))\n",
    "plt.plot(possible_k_values, errors_per_k)\n",
    "# Ticks and grid\n",
    "xticks = np.arange(min(possible_k_values), max(possible_k_values)+1, 5.0)\n",
    "ax.set_xticks(xticks, minor=False)\n",
    "ax.set_xticks(xticks, minor=True)\n",
    "ax.xaxis.grid(True, which='both')\n",
    "yticks = np.arange(round(min(errors_per_k), 2), max(errors_per_k), .05)\n",
    "ax.set_yticks(yticks, minor=False)\n",
    "ax.set_yticks(yticks, minor=True)\n",
    "ax.yaxis.grid(True, which='both')"
   ]
  },
  {
   "cell_type": "markdown",
   "metadata": {},
   "source": [
    "### The error and the conclusion:\n",
    "The error plot shows pretty high rate of error as k goes very high. That is primarily because of the repition in the data for given two tag lines we are considering. Since Will is a comedian(which incidentally I came to know much later), it is not also suprising that there is a coniderable overlap between funny tag and will tag. Cleaning our data would get us a better clustering for sure.\n",
    "\n",
    "The approach can be explored in various other directions. One of them I was curious was to put more weight between genure and tag compared to rating(so that if two data points differ by genure, the disatnce will be penalised more). I am still figuring out the exact function for this.\n",
    "\n",
    "Overall, clustering is an interesting approach with much flexibility to play within its domain."
   ]
  },
  {
   "cell_type": "code",
   "execution_count": null,
   "metadata": {},
   "outputs": [],
   "source": []
  }
 ],
 "metadata": {
  "kernelspec": {
   "display_name": "Python 3",
   "language": "python",
   "name": "python3"
  },
  "language_info": {
   "codemirror_mode": {
    "name": "ipython",
    "version": 3
   },
   "file_extension": ".py",
   "mimetype": "text/x-python",
   "name": "python",
   "nbconvert_exporter": "python",
   "pygments_lexer": "ipython3",
   "version": "3.7.3"
  }
 },
 "nbformat": 4,
 "nbformat_minor": 2
}
